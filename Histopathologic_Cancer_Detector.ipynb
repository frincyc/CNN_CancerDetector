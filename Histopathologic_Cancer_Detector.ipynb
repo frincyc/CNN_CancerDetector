{
 "cells": [
  {
   "cell_type": "markdown",
   "metadata": {},
   "source": [
    "# Histopathologic Cancer Detector"
   ]
  },
  {
   "cell_type": "code",
   "execution_count": 1,
   "metadata": {},
   "outputs": [
    {
     "name": "stderr",
     "output_type": "stream",
     "text": [
      "Using TensorFlow backend.\n"
     ]
    }
   ],
   "source": [
    "#Importing libraries\n",
    "\n",
    "import numpy as np\n",
    "import pandas as pd\n",
    "import matplotlib.pyplot as plt\n",
    "import matplotlib.image as mpimg\n",
    "import seaborn as sn\n",
    "\n",
    "import shutil, os\n",
    "\n",
    "from keras.models import Sequential\n",
    "from keras.layers import Convolution2D\n",
    "from keras.layers import MaxPooling2D\n",
    "\n",
    "from keras.layers import Flatten\n",
    "from keras.layers import Dense, Dropout\n",
    "from tensorflow.keras.callbacks import EarlyStopping, ReduceLROnPlateau, ModelCheckpoint, CSVLogger\n"
   ]
  },
  {
   "cell_type": "code",
   "execution_count": 2,
   "metadata": {},
   "outputs": [],
   "source": [
    "#Initializing Constants\n",
    "\n",
    "IMG_HEIGHT = 96\n",
    "IMG_WIDTH = 96\n",
    "IMG_CHANNELS = 3"
   ]
  },
  {
   "cell_type": "code",
   "execution_count": 3,
   "metadata": {},
   "outputs": [],
   "source": [
    "#Reading the data labels from CSV\n",
    "\n",
    "base_dir = 'D:\\Manju - CS\\Machine Learning\\Histopathologic_Cancer_Detection'\n",
    "dataset = pd.read_csv(base_dir+'\\\\train_labels.csv')\n",
    "X = dataset.iloc[:,0].values\n",
    "y = dataset.iloc[:,1].values"
   ]
  },
  {
   "cell_type": "code",
   "execution_count": null,
   "metadata": {},
   "outputs": [],
   "source": [
    "#Visualizing training image samples\n",
    "\n",
    "fig = plt.figure(figsize = (20,8))\n",
    "index = 1\n",
    "for i in np.random.randint(low = 0, high = dataset.shape[0], size = 10):\n",
    "    file = os.path.join(os.path.join(base_dir,'train'),dataset.iloc[i]['id'] + '.tif')\n",
    "    img=mpimg.imread(file)\n",
    "    ax = fig.add_subplot(2, 5, index)\n",
    "    ax.imshow(img, cmap = 'gray')\n",
    "    index = index + 1\n",
    "    color = ['green' if dataset.iloc[i].label == 1 else 'red'][0]\n",
    "    ax.set_title(dataset.iloc[i].label, fontsize = 18, color = color)\n",
    "plt.tight_layout()\n",
    "plt.show()"
   ]
  },
  {
   "cell_type": "markdown",
   "metadata": {},
   "source": [
    "## Part 1 - Data Preparation"
   ]
  },
  {
   "cell_type": "code",
   "execution_count": 4,
   "metadata": {},
   "outputs": [],
   "source": [
    "#Encoding the categorical variables\n",
    "\n",
    "from sklearn.preprocessing import LabelEncoder\n",
    "labelencoder_y = LabelEncoder()\n",
    "y = labelencoder_y.fit_transform(y)"
   ]
  },
  {
   "cell_type": "code",
   "execution_count": 5,
   "metadata": {},
   "outputs": [
    {
     "data": {
      "text/plain": [
       "0    130908\n",
       "1     89117\n",
       "Name: label, dtype: int64"
      ]
     },
     "execution_count": 5,
     "metadata": {},
     "output_type": "execute_result"
    }
   ],
   "source": [
    "#Distribution of Classes\n",
    "\n",
    "dataset['label'].value_counts()"
   ]
  },
  {
   "cell_type": "code",
   "execution_count": 6,
   "metadata": {},
   "outputs": [],
   "source": [
    "#Finding the Class distribution ratio in dataset\n",
    "\n",
    "data_distribution = dataset[dataset['label']==1].count()/dataset[dataset['label']==0].count()"
   ]
  },
  {
   "cell_type": "code",
   "execution_count": 7,
   "metadata": {},
   "outputs": [],
   "source": [
    "#Splitting 10% as test set from the original dataset \n",
    "\n",
    "from sklearn.model_selection import train_test_split\n",
    "X_train, X_test, y_train, y_test = train_test_split(X, y, test_size = 0.1, random_state = 0, stratify = y)"
   ]
  },
  {
   "cell_type": "code",
   "execution_count": 8,
   "metadata": {},
   "outputs": [],
   "source": [
    "#Splitting 10% from the dataset as validation set \n",
    "\n",
    "X_train, X_val, y_train, y_val = train_test_split(X_train, y_train, test_size = (0.1/0.9), random_state = 0, stratify = y_train)"
   ]
  },
  {
   "cell_type": "code",
   "execution_count": 9,
   "metadata": {},
   "outputs": [
    {
     "name": "stdout",
     "output_type": "stream",
     "text": [
      "Training Set Distribution Ratio: 0.68\n",
      "Training Set Distribution Ratio: 0.68\n"
     ]
    }
   ],
   "source": [
    "train_set_distribution = np.count_nonzero(y_train==1)/(len(y_train) - np.count_nonzero(y_train==1))\n",
    "print('Training Set Distribution Ratio: {:.2f}'.format(train_set_distribution))\n",
    "test_set_distribution = np.count_nonzero(y_test==1)/(len(y_test) - np.count_nonzero(y_test==1))\n",
    "print('Test Set Distribution Ratio: {:.2f}'.format(test_set_distribution))"
   ]
  },
  {
   "cell_type": "code",
   "execution_count": 10,
   "metadata": {},
   "outputs": [
    {
     "name": "stdout",
     "output_type": "stream",
     "text": [
      "Size of training set: 176019\n",
      "Size of test set: 22003\n",
      "Size of validation set: 22003\n"
     ]
    }
   ],
   "source": [
    "print('Size of training set:', len(X_train))\n",
    "print('Size of validation set:', len(X_val))\n",
    "print('Size of test set:', len(X_test))"
   ]
  },
  {
   "cell_type": "code",
   "execution_count": 11,
   "metadata": {},
   "outputs": [],
   "source": [
    "#Creating new dataset folder for input\n",
    "\n",
    "base_dest = os.path.join(base_dir,'dataset_org')"
   ]
  },
  {
   "cell_type": "code",
   "execution_count": 12,
   "metadata": {},
   "outputs": [],
   "source": [
    "#os.mkdir(base_dest)"
   ]
  },
  {
   "cell_type": "code",
   "execution_count": 13,
   "metadata": {},
   "outputs": [],
   "source": [
    "#Creating new folder for training input\n",
    "source = os.path.join(base_dir,'train')\n",
    "train_dest = os.path.join(base_dest,'train')\n",
    "val_dest = os.path.join(base_dest,'val')\n",
    "test_dest = os.path.join(base_dest,'test')"
   ]
  },
  {
   "cell_type": "code",
   "execution_count": 14,
   "metadata": {},
   "outputs": [],
   "source": [
    "#os.mkdir(train_dest)\n",
    "#os.mkdir(test_dest)\n",
    "#os.mkdir(val_dest)"
   ]
  },
  {
   "cell_type": "code",
   "execution_count": 15,
   "metadata": {},
   "outputs": [],
   "source": [
    "def copy_to_classfolders(source,dest,X,y):\n",
    "    \n",
    "    '''\n",
    "    Function to copy data images to train/validation/test folders according to their classes\n",
    "    '''\n",
    "    \n",
    "    #Creating new folders for each class\n",
    "    class_zero = os.path.join(dest,'Class_NoTumor')\n",
    "    class_one = os.path.join(dest,'Class_Tumor')\n",
    "    os.mkdir(class_zero)\n",
    "    os.mkdir(class_one)\n",
    "\n",
    "    #Copying training images according to its class\n",
    "    for image in X:\n",
    "        selected_image = image + '.tif'\n",
    "        source_file = os.path.join(source,selected_image)\n",
    "        index = np.where(X == image)\n",
    "        if y[index] == 0:\n",
    "            dest_file = os.path.join(class_zero,selected_image)\n",
    "        elif y[index] == 1:\n",
    "            dest_file = os.path.join(class_one,selected_image)\n",
    "        shutil.copyfile(source_file, dest_file)"
   ]
  },
  {
   "cell_type": "code",
   "execution_count": 16,
   "metadata": {},
   "outputs": [],
   "source": [
    "#Copying all images according to the train.val.test split\n",
    "\n",
    "#copy_to_classfolders(source, train_dest, X_train, y_train)\n",
    "#copy_to_classfolders(source, val_dest, X_val, y_val)\n",
    "#copy_to_classfolders(source, test_dest, X_test, y_test)"
   ]
  },
  {
   "cell_type": "markdown",
   "metadata": {},
   "source": [
    "## Part 2 - Building the CNN Model"
   ]
  },
  {
   "cell_type": "code",
   "execution_count": 17,
   "metadata": {},
   "outputs": [],
   "source": [
    "# Initialising the CNN\n",
    "classifier = Sequential()"
   ]
  },
  {
   "cell_type": "code",
   "execution_count": 18,
   "metadata": {},
   "outputs": [],
   "source": [
    "#Initializing constants for building the model\n",
    "\n",
    "FILTER_1 = 16\n",
    "FILTER_2 = 32\n",
    "FILTER_3 = 64\n",
    "FILTER_4 = 128\n",
    "#FILTER_5 = 256\n",
    "\n",
    "KERNEL_SIZE = (3,3)\n",
    "DROPOUT_RATE = 0.3\n",
    "POOL_SIZE = (3,3)\n",
    "\n",
    "TRAIN_BATCH_SIZE = 256\n",
    "VAL_BATCH_SIZE = 64\n",
    "TEST_BATCH_SIZE = 1"
   ]
  },
  {
   "cell_type": "code",
   "execution_count": 19,
   "metadata": {},
   "outputs": [],
   "source": [
    "# Step 1 - First Convolution layer - Dropout and Max Pooling\n",
    "\n",
    "classifier.add(Convolution2D(filters = FILTER_1, kernel_size = KERNEL_SIZE, padding = 'same', input_shape = (IMG_HEIGHT,IMG_WIDTH,IMG_CHANNELS), activation = 'relu'))\n",
    "classifier.add(Convolution2D(filters = FILTER_1, kernel_size = KERNEL_SIZE, padding = 'same', activation = 'relu'))\n",
    "classifier.add(Convolution2D(filters = FILTER_1, kernel_size = KERNEL_SIZE, padding = 'same', activation = 'relu'))\n",
    "classifier.add(Dropout(DROPOUT_RATE))\n",
    "classifier.add(MaxPooling2D(pool_size = POOL_SIZE))"
   ]
  },
  {
   "cell_type": "code",
   "execution_count": 20,
   "metadata": {},
   "outputs": [],
   "source": [
    "# Step 2 - Second Convolution layer - Dropout and Max Pooling\n",
    "\n",
    "classifier.add(Convolution2D(filters = FILTER_2, kernel_size = KERNEL_SIZE, padding = 'same', activation = 'relu'))\n",
    "classifier.add(Convolution2D(filters = FILTER_2, kernel_size = KERNEL_SIZE, padding = 'same', activation = 'relu'))\n",
    "classifier.add(Convolution2D(filters = FILTER_2, kernel_size = KERNEL_SIZE, padding = 'same', activation = 'relu'))\n",
    "classifier.add(Dropout(DROPOUT_RATE))\n",
    "classifier.add(MaxPooling2D(pool_size = POOL_SIZE))"
   ]
  },
  {
   "cell_type": "code",
   "execution_count": 21,
   "metadata": {},
   "outputs": [],
   "source": [
    "# Step 3 - Third Convolution layer -  Dropout and Max Pooling\n",
    "\n",
    "classifier.add(Convolution2D(filters = FILTER_3, kernel_size = KERNEL_SIZE, padding = 'same', activation = 'relu'))\n",
    "classifier.add(Convolution2D(filters = FILTER_3, kernel_size = KERNEL_SIZE, padding = 'same', activation = 'relu'))\n",
    "classifier.add(Convolution2D(filters = FILTER_3, kernel_size = KERNEL_SIZE, padding = 'same', activation = 'relu'))\n",
    "classifier.add(Dropout(DROPOUT_RATE))\n",
    "classifier.add(MaxPooling2D(pool_size = POOL_SIZE))"
   ]
  },
  {
   "cell_type": "code",
   "execution_count": 22,
   "metadata": {},
   "outputs": [],
   "source": [
    "# Step 4 - Fourth Convolution layer - Dropout\n",
    "\n",
    "classifier.add(Convolution2D(filters = FILTER_4, kernel_size = KERNEL_SIZE, padding = 'same',activation = 'relu'))\n",
    "classifier.add(Convolution2D(filters = FILTER_4, kernel_size = KERNEL_SIZE, padding = 'same',activation = 'relu'))\n",
    "classifier.add(Convolution2D(filters = FILTER_4, kernel_size = KERNEL_SIZE, padding = 'same',activation = 'relu'))\n",
    "classifier.add(Dropout(DROPOUT_RATE))"
   ]
  },
  {
   "cell_type": "code",
   "execution_count": 23,
   "metadata": {},
   "outputs": [],
   "source": [
    "# Step 6 - Flattening\n",
    "\n",
    "classifier.add(Flatten())"
   ]
  },
  {
   "cell_type": "code",
   "execution_count": 24,
   "metadata": {},
   "outputs": [
    {
     "name": "stderr",
     "output_type": "stream",
     "text": [
      "C:\\Anaconda\\envs\\python36\\lib\\site-packages\\ipykernel_launcher.py:4: UserWarning: Update your `Dense` call to the Keras 2 API: `Dense(activation=\"relu\", units=128)`\n",
      "  after removing the cwd from sys.path.\n",
      "C:\\Anaconda\\envs\\python36\\lib\\site-packages\\ipykernel_launcher.py:6: UserWarning: Update your `Dense` call to the Keras 2 API: `Dense(activation=\"sigmoid\", units=1)`\n",
      "  \n"
     ]
    }
   ],
   "source": [
    "# Step 7 - Full connection\n",
    "\n",
    "classifier.add(Dense(output_dim = 128, activation = 'relu'))\n",
    "classifier.add(Dropout(DROPOUT_RATE))\n",
    "classifier.add(Dense(output_dim = 1, activation = 'sigmoid'))"
   ]
  },
  {
   "cell_type": "code",
   "execution_count": 25,
   "metadata": {},
   "outputs": [
    {
     "name": "stdout",
     "output_type": "stream",
     "text": [
      "_________________________________________________________________\n",
      "Layer (type)                 Output Shape              Param #   \n",
      "=================================================================\n",
      "conv2d_1 (Conv2D)            (None, 96, 96, 16)        448       \n",
      "_________________________________________________________________\n",
      "conv2d_2 (Conv2D)            (None, 96, 96, 16)        2320      \n",
      "_________________________________________________________________\n",
      "conv2d_3 (Conv2D)            (None, 96, 96, 16)        2320      \n",
      "_________________________________________________________________\n",
      "dropout_1 (Dropout)          (None, 96, 96, 16)        0         \n",
      "_________________________________________________________________\n",
      "max_pooling2d_1 (MaxPooling2 (None, 32, 32, 16)        0         \n",
      "_________________________________________________________________\n",
      "conv2d_4 (Conv2D)            (None, 32, 32, 32)        4640      \n",
      "_________________________________________________________________\n",
      "conv2d_5 (Conv2D)            (None, 32, 32, 32)        9248      \n",
      "_________________________________________________________________\n",
      "conv2d_6 (Conv2D)            (None, 32, 32, 32)        9248      \n",
      "_________________________________________________________________\n",
      "dropout_2 (Dropout)          (None, 32, 32, 32)        0         \n",
      "_________________________________________________________________\n",
      "max_pooling2d_2 (MaxPooling2 (None, 10, 10, 32)        0         \n",
      "_________________________________________________________________\n",
      "conv2d_7 (Conv2D)            (None, 10, 10, 64)        18496     \n",
      "_________________________________________________________________\n",
      "conv2d_8 (Conv2D)            (None, 10, 10, 64)        36928     \n",
      "_________________________________________________________________\n",
      "conv2d_9 (Conv2D)            (None, 10, 10, 64)        36928     \n",
      "_________________________________________________________________\n",
      "dropout_3 (Dropout)          (None, 10, 10, 64)        0         \n",
      "_________________________________________________________________\n",
      "max_pooling2d_3 (MaxPooling2 (None, 3, 3, 64)          0         \n",
      "_________________________________________________________________\n",
      "conv2d_10 (Conv2D)           (None, 3, 3, 128)         73856     \n",
      "_________________________________________________________________\n",
      "conv2d_11 (Conv2D)           (None, 3, 3, 128)         147584    \n",
      "_________________________________________________________________\n",
      "conv2d_12 (Conv2D)           (None, 3, 3, 128)         147584    \n",
      "_________________________________________________________________\n",
      "dropout_4 (Dropout)          (None, 3, 3, 128)         0         \n",
      "_________________________________________________________________\n",
      "flatten_1 (Flatten)          (None, 1152)              0         \n",
      "_________________________________________________________________\n",
      "dense_1 (Dense)              (None, 128)               147584    \n",
      "_________________________________________________________________\n",
      "dropout_5 (Dropout)          (None, 128)               0         \n",
      "_________________________________________________________________\n",
      "dense_2 (Dense)              (None, 1)                 129       \n",
      "=================================================================\n",
      "Total params: 637,313\n",
      "Trainable params: 637,313\n",
      "Non-trainable params: 0\n",
      "_________________________________________________________________\n"
     ]
    }
   ],
   "source": [
    "classifier.summary()"
   ]
  },
  {
   "cell_type": "code",
   "execution_count": 26,
   "metadata": {},
   "outputs": [],
   "source": [
    "# Compiling the CNN using Adam optimizer\n",
    "\n",
    "classifier.compile(optimizer = 'adam', loss = 'binary_crossentropy', metrics = ['accuracy'])"
   ]
  },
  {
   "cell_type": "markdown",
   "metadata": {},
   "source": [
    "## Part 3 - Data Generation"
   ]
  },
  {
   "cell_type": "code",
   "execution_count": 27,
   "metadata": {},
   "outputs": [
    {
     "name": "stdout",
     "output_type": "stream",
     "text": [
      "Found 176019 images belonging to 2 classes.\n",
      "Found 22003 images belonging to 2 classes.\n",
      "Found 22003 images belonging to 2 classes.\n"
     ]
    }
   ],
   "source": [
    "#Generating batches of tensor image data for train/val/test images\n",
    "\n",
    "from keras.preprocessing.image import ImageDataGenerator\n",
    "\n",
    "'''train_datagen = ImageDataGenerator(rescale = 1./255,\n",
    "                                   rotation_range=40,\n",
    "                                   width_shift_range=0.2,\n",
    "                                   height_shift_range=0.2,\n",
    "                                   shear_range = 0.2,\n",
    "                                   zoom_range = 0.2,\n",
    "                                   horizontal_flip = True)'''\n",
    "\n",
    "\n",
    "data_gen = ImageDataGenerator(rescale = 1./255)\n",
    "training_set = data_gen.flow_from_directory(train_dest,\n",
    "                                                 target_size = (IMG_HEIGHT,IMG_WIDTH),\n",
    "                                                 batch_size = TRAIN_BATCH_SIZE,\n",
    "                                                 class_mode = 'binary')\n",
    "\n",
    "val_set = data_gen.flow_from_directory(val_dest,\n",
    "                                            target_size = (IMG_HEIGHT,IMG_WIDTH),\n",
    "                                            batch_size = VAL_BATCH_SIZE,\n",
    "                                            class_mode = 'binary',\n",
    "                                           shuffle=False)\n",
    "\n",
    "test_set = data_gen.flow_from_directory(test_dest,\n",
    "                                            target_size = (IMG_HEIGHT,IMG_WIDTH),\n",
    "                                            batch_size = TEST_BATCH_SIZE,\n",
    "                                            class_mode = 'binary',\n",
    "                                           shuffle=False)\n",
    "#test_set = crop_generator(test_batches, 36)"
   ]
  },
  {
   "cell_type": "markdown",
   "metadata": {},
   "source": [
    "## Part 4: Learning on Training Data"
   ]
  },
  {
   "cell_type": "code",
   "execution_count": 28,
   "metadata": {},
   "outputs": [],
   "source": [
    "#Setting GPU session\n",
    "\n",
    "from keras import backend as K\n",
    "cfg = K.tf.ConfigProto()\n",
    "cfg.gpu_options.allow_growth = True\n",
    "K.set_session(K.tf.Session(config=cfg))"
   ]
  },
  {
   "cell_type": "code",
   "execution_count": 29,
   "metadata": {},
   "outputs": [],
   "source": [
    "#Variables for training the model\n",
    "\n",
    "model_checkpoint = ModelCheckpoint(base_dir+'\\\\model_May13.h5', monitor='val_acc', verbose=1, \n",
    "                            save_best_only=True, mode='max')\n",
    "csv_logger = CSVLogger(base_dir+'\\\\Log_May13.log')\n",
    "early_stopping = EarlyStopping(monitor = 'val_acc',min_delta = 0.000001,patience= 3, verbose = 1, mode = 'max' )"
   ]
  },
  {
   "cell_type": "code",
   "execution_count": 30,
   "metadata": {},
   "outputs": [
    {
     "name": "stdout",
     "output_type": "stream",
     "text": [
      "Epoch 1/20\n",
      "688/688 [==============================] - 663s 964ms/step - loss: 0.4515 - acc: 0.7893 - val_loss: 0.6499 - val_acc: 0.6442\n",
      "\n",
      "Epoch 00001: val_acc improved from -inf to 0.64423, saving model to D:\\Manju - CS\\Machine Learning\\Histopathologic_Cancer_Detection\\model_May13.h5\n",
      "Epoch 2/20\n",
      "688/688 [==============================] - 702s 1s/step - loss: 0.3380 - acc: 0.8566 - val_loss: 0.4200 - val_acc: 0.7911\n",
      "\n",
      "Epoch 00002: val_acc improved from 0.64423 to 0.79107, saving model to D:\\Manju - CS\\Machine Learning\\Histopathologic_Cancer_Detection\\model_May13.h5\n",
      "Epoch 3/20\n",
      "688/688 [==============================] - 673s 979ms/step - loss: 0.2827 - acc: 0.8829 - val_loss: 0.2833 - val_acc: 0.8900\n",
      "\n",
      "Epoch 00003: val_acc improved from 0.79107 to 0.89001, saving model to D:\\Manju - CS\\Machine Learning\\Histopathologic_Cancer_Detection\\model_May13.h5\n",
      "Epoch 4/20\n",
      "688/688 [==============================] - 677s 983ms/step - loss: 0.2515 - acc: 0.8997 - val_loss: 0.2766 - val_acc: 0.8816\n",
      "\n",
      "Epoch 00004: val_acc did not improve from 0.89001\n",
      "Epoch 5/20\n",
      "688/688 [==============================] - 686s 997ms/step - loss: 0.2342 - acc: 0.9079 - val_loss: 0.2518 - val_acc: 0.9019\n",
      "\n",
      "Epoch 00005: val_acc improved from 0.89001 to 0.90188, saving model to D:\\Manju - CS\\Machine Learning\\Histopathologic_Cancer_Detection\\model_May13.h5\n",
      "Epoch 6/20\n",
      "688/688 [==============================] - 672s 977ms/step - loss: 0.2207 - acc: 0.9139 - val_loss: 0.2448 - val_acc: 0.9008\n",
      "\n",
      "Epoch 00006: val_acc did not improve from 0.90188\n",
      "Epoch 7/20\n",
      "688/688 [==============================] - 684s 995ms/step - loss: 0.2092 - acc: 0.9195 - val_loss: 0.2294 - val_acc: 0.9153\n",
      "\n",
      "Epoch 00007: val_acc improved from 0.90188 to 0.91533, saving model to D:\\Manju - CS\\Machine Learning\\Histopathologic_Cancer_Detection\\model_May13.h5\n",
      "Epoch 8/20\n",
      "688/688 [==============================] - 679s 987ms/step - loss: 0.2030 - acc: 0.9213 - val_loss: 0.2363 - val_acc: 0.9043\n",
      "\n",
      "Epoch 00008: val_acc did not improve from 0.91533\n",
      "Epoch 9/20\n",
      "688/688 [==============================] - 677s 984ms/step - loss: 0.1932 - acc: 0.9257 - val_loss: 0.2360 - val_acc: 0.9055\n",
      "\n",
      "Epoch 00009: val_acc did not improve from 0.91533\n",
      "Epoch 10/20\n",
      "688/688 [==============================] - 683s 992ms/step - loss: 0.1863 - acc: 0.9293 - val_loss: 0.2203 - val_acc: 0.9206\n",
      "\n",
      "Epoch 00010: val_acc improved from 0.91533 to 0.92060, saving model to D:\\Manju - CS\\Machine Learning\\Histopathologic_Cancer_Detection\\model_May13.h5\n",
      "Epoch 11/20\n",
      "688/688 [==============================] - 681s 990ms/step - loss: 0.1804 - acc: 0.9315 - val_loss: 0.1981 - val_acc: 0.9257\n",
      "\n",
      "Epoch 00011: val_acc improved from 0.92060 to 0.92574, saving model to D:\\Manju - CS\\Machine Learning\\Histopathologic_Cancer_Detection\\model_May13.h5\n",
      "Epoch 12/20\n",
      "688/688 [==============================] - 684s 994ms/step - loss: 0.1745 - acc: 0.9340 - val_loss: 0.1928 - val_acc: 0.9244\n",
      "\n",
      "Epoch 00012: val_acc did not improve from 0.92574\n",
      "Epoch 13/20\n",
      "688/688 [==============================] - 687s 999ms/step - loss: 0.1709 - acc: 0.9353 - val_loss: 0.2042 - val_acc: 0.9192\n",
      "\n",
      "Epoch 00013: val_acc did not improve from 0.92574\n",
      "Epoch 14/20\n",
      "688/688 [==============================] - 697s 1s/step - loss: 0.1663 - acc: 0.9382 - val_loss: 0.2129 - val_acc: 0.9189\n",
      "\n",
      "Epoch 00014: val_acc did not improve from 0.92574\n",
      "Epoch 00014: early stopping\n"
     ]
    }
   ],
   "source": [
    "#Learning on the training set\n",
    "\n",
    "history = classifier.fit_generator(training_set,\n",
    "                         steps_per_epoch = np.ceil(len(X_train)/training_set.batch_size),\n",
    "                         epochs = 20,\n",
    "                         validation_data = val_set,\n",
    "                         validation_steps = np.ceil(len(X_val)/val_set.batch_size),\n",
    "                                  callbacks= [model_checkpoint, early_stopping, csv_logger])"
   ]
  },
  {
   "cell_type": "markdown",
   "metadata": {},
   "source": [
    "## Part 5: Model Assessment"
   ]
  },
  {
   "cell_type": "code",
   "execution_count": 31,
   "metadata": {},
   "outputs": [
    {
     "data": {
      "image/png": "[encoded data removed]",
      "text/plain": [
       "<Figure size 432x288 with 1 Axes>"
      ]
     },
     "metadata": {
      "needs_background": "light"
     },
     "output_type": "display_data"
    },
    {
     "data": {
      "image/png": "[encoded data removed]",
      "text/plain": [
       "<Figure size 432x288 with 1 Axes>"
      ]
     },
     "metadata": {
      "needs_background": "light"
     },
     "output_type": "display_data"
    }
   ],
   "source": [
    "# Plot training & validation accuracy values\n",
    "\n",
    "plt.plot(history.history['acc'], c = 'red')\n",
    "plt.plot(history.history['val_acc'], c = 'blue')\n",
    "plt.title('Training Vs. Validation Accuracy')\n",
    "plt.ylabel('Accuracy')\n",
    "plt.xlabel('Epoch')\n",
    "plt.legend(['Train', 'Validation'], loc='upper left')\n",
    "plt.show()\n",
    "\n",
    "# Plot training & validation loss values\n",
    "\n",
    "plt.plot(history.history['loss'], c = 'red')\n",
    "plt.plot(history.history['val_loss'], 'blue')\n",
    "plt.title('Training Vs. Validation Loss')\n",
    "plt.ylabel('Loss')\n",
    "plt.xlabel('Epoch')\n",
    "plt.legend(['Train', 'Validation'], loc='upper left')\n",
    "plt.show()"
   ]
  },
  {
   "cell_type": "code",
   "execution_count": 32,
   "metadata": {},
   "outputs": [],
   "source": [
    "#Loading back the trained model for prediction\n",
    "\n",
    "classifier.load_weights(base_dir+'\\\\model_May13.h5')"
   ]
  },
  {
   "cell_type": "code",
   "execution_count": 33,
   "metadata": {},
   "outputs": [
    {
     "name": "stderr",
     "output_type": "stream",
     "text": [
      "C:\\Anaconda\\envs\\python36\\lib\\site-packages\\ipykernel_launcher.py:2: UserWarning: Update your `evaluate_generator` call to the Keras 2 API: `evaluate_generator(<keras_pre..., steps=22003, verbose=1, workers=1, use_multiprocessing=False)`\n",
      "  \n"
     ]
    },
    {
     "name": "stdout",
     "output_type": "stream",
     "text": [
      "22003/22003 [==============================] - 2537s 115ms/step\n",
      "Performance of generated classifier:\n",
      "  [0.19808132208295745, 0.9257595534615172]\n"
     ]
    }
   ],
   "source": [
    "#Evaluating Generator on the val set to find Accuracy/Loss\n",
    "\n",
    "score = classifier.evaluate_generator(val_set, steps = len(X_val),verbose = 1, workers= 1, pickle_safe=False)\n",
    "print('Performance of generated classifier:\\n ',score)"
   ]
  },
  {
   "cell_type": "markdown",
   "metadata": {},
   "source": [
    "## Part 6: Performance Measurement "
   ]
  },
  {
   "cell_type": "code",
   "execution_count": 34,
   "metadata": {},
   "outputs": [
    {
     "name": "stdout",
     "output_type": "stream",
     "text": [
      "22003/22003 [==============================] - 2380s 108ms/step\n"
     ]
    }
   ],
   "source": [
    "#Predict on the test set\n",
    "\n",
    "y_pred = classifier.predict_generator(test_set, steps = len(X_test), verbose = 1, workers = 1)\n",
    "y_true = test_set.classes"
   ]
  },
  {
   "cell_type": "code",
   "execution_count": 35,
   "metadata": {},
   "outputs": [
    {
     "name": "stdout",
     "output_type": "stream",
     "text": [
      "Area under ROC curve: 0.97\n"
     ]
    }
   ],
   "source": [
    "## Finding ROC Score\n",
    "\n",
    "from sklearn.metrics import roc_auc_score, roc_curve, auc\n",
    "fpr_keras, tpr_keras, thresholds_keras = roc_curve(y_true, y_pred)\n",
    "auc_keras = auc(fpr_keras, tpr_keras)\n",
    "print('Area under ROC curve: {:.2f}'.format(auc_keras))"
   ]
  },
  {
   "cell_type": "code",
   "execution_count": 36,
   "metadata": {},
   "outputs": [
    {
     "data": {
      "image/png": "[encoded data removed]",
      "text/plain": [
       "<Figure size 432x288 with 1 Axes>"
      ]
     },
     "metadata": {
      "needs_background": "light"
     },
     "output_type": "display_data"
    }
   ],
   "source": [
    "#Plotting ROC Curve\n",
    "\n",
    "plt.figure(1)\n",
    "plt.plot([0, 1], [0, 1], 'k--')\n",
    "plt.plot(fpr_keras, tpr_keras, label='area = {:.3f}'.format(auc_keras))\n",
    "plt.xlabel('False positive rate')\n",
    "plt.ylabel('True positive rate')\n",
    "plt.title('ROC curve')\n",
    "plt.legend(loc='best')\n",
    "plt.show()"
   ]
  },
  {
   "cell_type": "code",
   "execution_count": 37,
   "metadata": {},
   "outputs": [],
   "source": [
    "#Confusion matrix using sklearn\n",
    "\n",
    "from sklearn.metrics import confusion_matrix, accuracy_score\n",
    "cm = confusion_matrix(y_true, y_pred[:,0].round())\n",
    "cm_plot_labels = ['0 - No Tumor', '1 - Tumor']"
   ]
  },
  {
   "cell_type": "code",
   "execution_count": 38,
   "metadata": {},
   "outputs": [
    {
     "data": {
      "image/png": "[encoded data removed]",
      "text/plain": [
       "<Figure size 432x288 with 2 Axes>"
      ]
     },
     "metadata": {
      "needs_background": "light"
     },
     "output_type": "display_data"
    }
   ],
   "source": [
    "#Plot Confusion Matrix\n",
    "\n",
    "ax = plt.subplot()\n",
    "df_cm = pd.DataFrame(cm, range(2),range(2)) \n",
    "sn.heatmap(df_cm, annot=True , ax = ax, fmt = 'g')# font size\n",
    "ax.set_xlabel('Predicted labels');ax.set_ylabel('True labels'); \n",
    "ax.set_title('Confusion Matrix'); \n",
    "ax.xaxis.set_ticklabels(cm_plot_labels); \n",
    "ax.yaxis.set_ticklabels(cm_plot_labels);"
   ]
  },
  {
   "cell_type": "code",
   "execution_count": 39,
   "metadata": {},
   "outputs": [
    {
     "name": "stdout",
     "output_type": "stream",
     "text": [
      "              precision    recall  f1-score   support\n",
      "\n",
      "0 - No Tumor       0.92      0.96      0.94     13091\n",
      "   1 - Tumor       0.94      0.88      0.91      8912\n",
      "\n",
      "   micro avg       0.93      0.93      0.93     22003\n",
      "   macro avg       0.93      0.92      0.92     22003\n",
      "weighted avg       0.93      0.93      0.93     22003\n",
      "\n"
     ]
    }
   ],
   "source": [
    "#Printing Classification Report\n",
    "\n",
    "from sklearn.metrics import classification_report\n",
    "report = classification_report(y_true, y_pred[:,0].round(), target_names=cm_plot_labels)\n",
    "print(report)"
   ]
  },
  {
   "cell_type": "code",
   "execution_count": 40,
   "metadata": {},
   "outputs": [
    {
     "name": "stdout",
     "output_type": "stream",
     "text": [
      "Accuracy of predictions: 92.72 %\n"
     ]
    }
   ],
   "source": [
    "#Finding accuracy on the test data\n",
    "\n",
    "print(\"Accuracy of predictions: {:.2f} %\".format(accuracy_score(y_true, y_pred[:,0].round())*100))"
   ]
  }
 ],
 "metadata": {
  "kernelspec": {
   "display_name": "Python 3",
   "language": "python",
   "name": "python3"
  },
  "language_info": {
   "codemirror_mode": {
    "name": "ipython",
    "version": 3
   },
   "file_extension": ".py",
   "mimetype": "text/x-python",
   "name": "python",
   "nbconvert_exporter": "python",
   "pygments_lexer": "ipython3",
   "version": "3.6.8"
  }
 },
 "nbformat": 4,
 "nbformat_minor": 2
}
